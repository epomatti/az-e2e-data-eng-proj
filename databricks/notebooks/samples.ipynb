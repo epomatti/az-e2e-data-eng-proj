{
 "cells": [
  {
   "cell_type": "code",
   "execution_count": null,
   "metadata": {},
   "outputs": [],
   "source": [
    "import pandas\n",
    "\n",
    "\n",
    "entries_gender = entries_gender.withColumn(\"Female\", col(\"Female\").cast(IntegerType()))\\\n",
    "    .withColumn(\"Male\", col(\"Male\").cast(IntegerType()))\\\n",
    "    .withColumn(\"Total\", col(\"Total\").cast(IntegerType()))\n",
    "\n",
    "\n",
    "top_gold_medal_countries = medals.orderBy(\"Gold\", ascending=False).select(\"Team/NOC\", \"Gold\").show()\n",
    "\n",
    "\n",
    "avg_entries_by_gender = entries_gender.withColumn(\n",
    "    'Avg_Female', entries_gender['Female'] / entries_gender['Total']\n",
    ").withColumn(\n",
    "    'Avg_Male', entries_gender['Male'] / entries_gender['Total']\n",
    ")\n",
    "avg_entries_by_gender.show()\n",
    "\n",
    "\n",
    "# athletes_pandas = athletes.toPandas()\n",
    "# storage_options={'tenant_id': tenant_id, 'client_id': client_id, 'client_secret': service_credential}\n",
    "# athletes_pandas.to_csv(f\"abfs://transformed-data@{storage_name}.dfs.core.windows.net/athletes.csv\", storage_options=storage_options)"
   ]
  }
 ],
 "metadata": {
  "language_info": {
   "name": "python"
  }
 },
 "nbformat": 4,
 "nbformat_minor": 2
}

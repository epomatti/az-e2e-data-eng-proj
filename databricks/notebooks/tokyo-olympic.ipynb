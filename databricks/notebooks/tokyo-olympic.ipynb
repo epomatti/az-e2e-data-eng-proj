{
 "cells": [
  {
   "cell_type": "code",
   "execution_count": null,
   "metadata": {},
   "outputs": [],
   "source": [
    "import os\n",
    "from pyspark.sql.functions import col\n",
    "from pyspark.sql.types import IntegerType, DoubleType, BooleanType, DateType"
   ]
  },
  {
   "cell_type": "code",
   "execution_count": null,
   "metadata": {},
   "outputs": [],
   "source": [
    "storage_name = os.getenv(\"DLS_NAME\")\n",
    "filesystem_stage = os.getenv(\"DLS_FILESYSTEM_STAGE\")\n",
    "tenant_id = os.getenv(\"SP_TENANT_ID\")\n",
    "application_id = os.getenv(\"SP_CLIENT_ID\")\n",
    "\n",
    "service_credential = dbutils.secrets.get(scope=\"keyvault-managed\", key=\"dlsserviceprincipalsecret\")\n",
    "\n",
    "spark.conf.set(f\"fs.azure.account.auth.type.{storage_name}.dfs.core.windows.net\", \"OAuth\")\n",
    "spark.conf.set(f\"fs.azure.account.oauth.provider.type.{storage_name}.dfs.core.windows.net\", \"org.apache.hadoop.fs.azurebfs.oauth2.ClientCredsTokenProvider\")\n",
    "spark.conf.set(f\"fs.azure.account.oauth2.client.id.{storage_name}.dfs.core.windows.net\", application_id)\n",
    "spark.conf.set(f\"fs.azure.account.oauth2.client.secret.{storage_name}.dfs.core.windows.net\", service_credential)\n",
    "spark.conf.set(f\"fs.azure.account.oauth2.client.endpoint.{storage_name}.dfs.core.windows.net\", f\"https://login.microsoftonline.com/{tenant_id}/oauth2/token\")"
   ]
  },
  {
   "cell_type": "code",
   "execution_count": null,
   "metadata": {},
   "outputs": [],
   "source": [
    "lake_url = f\"abfss://{filesystem_stage}@{storage_name}.dfs.core.windows.net\"\n",
    "\n",
    "athletes = spark.read.option(\"header\", \"true\").option(\"inferSchema\", \"true\").load(f\"{lake_url}/Athletes.xlsx.csv\", format=\"CSV\")\n",
    "coaches = spark.read.option(\"header\", \"true\").option(\"inferSchema\", \"true\").load(f\"{lake_url}/Coaches.xlsx.csv\", format=\"CSV\")\n",
    "entries_gender = spark.read.option(\"header\", \"true\").option(\"inferSchema\", \"true\").load(f\"{lake_url}/EntriesGender.xlsx.csv\", format=\"CSV\")\n",
    "medals = spark.read.option(\"header\", \"true\").option(\"inferSchema\", \"true\").load(f\"{lake_url}/Medals.xlsx.csv\", format=\"CSV\")\n",
    "teams = spark.read.option(\"header\", \"true\").option(\"inferSchema\", \"true\").load(f\"{lake_url}/Teams.xlsx.csv\", format=\"CSV\")"
   ]
  },
  {
   "cell_type": "code",
   "execution_count": null,
   "metadata": {},
   "outputs": [],
   "source": [
    "athletes.printSchema()\n",
    "entries_gender.printSchema()"
   ]
  },
  {
   "cell_type": "code",
   "execution_count": null,
   "metadata": {},
   "outputs": [],
   "source": [
    "entries_gender = entries_gender.withColumn(\"Female\", col(\"Female\").cast(IntegerType()))\\\n",
    "    .withColumn(\"Male\", col(\"Male\").cast(IntegerType()))\\\n",
    "    .withColumn(\"Total\", col(\"Total\").cast(IntegerType()))"
   ]
  }
 ],
 "metadata": {
  "language_info": {
   "name": "python"
  }
 },
 "nbformat": 4,
 "nbformat_minor": 2
}
